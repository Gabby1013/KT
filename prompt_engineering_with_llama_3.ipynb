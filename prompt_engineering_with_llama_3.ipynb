{
  "cells": [
    {
      "cell_type": "markdown",
      "metadata": {
        "id": "view-in-github",
        "colab_type": "text"
      },
      "source": [
        "<a href=\"https://colab.research.google.com/github/GabriellaJG2/KT/blob/main/prompt_engineering_with_llama_3.ipynb\" target=\"_parent\"><img src=\"https://colab.research.google.com/assets/colab-badge.svg\" alt=\"Open In Colab\"/></a>"
      ]
    },
    {
      "cell_type": "markdown",
      "metadata": {
        "id": "9L_0PwyxTsLs"
      },
      "source": [
        "<a href=\"https://colab.research.google.com/github/meta-llama/llama-recipes/blob/main/recipes/quickstart/Prompt_Engineering_with_Llama_3.ipynb\" target=\"_parent\"><img src=\"https://colab.research.google.com/assets/colab-badge.svg\" alt=\"Open In Colab\"/></a>\n",
        "\n",
        "# Prompt Engineering with Llama 3.1\n",
        "\n",
        "Prompt engineering is using natural language to produce a desired response from a large language model (LLM).\n",
        "\n",
        "This interactive guide covers prompt engineering & best practices with Llama 3.1."
      ]
    },
    {
      "cell_type": "markdown",
      "metadata": {
        "id": "w5On3XweTsLt"
      },
      "source": [
        "## Introduction"
      ]
    },
    {
      "cell_type": "markdown",
      "metadata": {
        "id": "Y_a64x4zTsLu"
      },
      "source": [
        "### Why now?\n",
        "\n",
        "[Vaswani et al. (2017)](https://arxiv.org/abs/1706.03762) introduced the world to transformer neural networks (originally for machine translation). Transformers ushered an era of generative AI with diffusion models for image creation and large language models (`LLMs`) as **programmable deep learning networks**.\n",
        "\n",
        "Programming foundational LLMs is done with natural language – it doesn't require training/tuning like ML models of the past. This has opened the door to a massive amount of innovation and a paradigm shift in how technology can be deployed. The science/art of using natural language to program language models to accomplish a task is referred to as **Prompt Engineering**."
      ]
    },
    {
      "cell_type": "markdown",
      "metadata": {
        "id": "XX_k1hcOTsLu"
      },
      "source": [
        "### Llama Models\n",
        "\n",
        "In 2023, Meta introduced the [Llama language models](https://ai.meta.com/llama/) (Llama Chat, Code Llama, Llama Guard). These are general purpose, state-of-the-art LLMs.\n",
        "\n",
        "Llama models come in varying parameter sizes. The smaller models are cheaper to deploy and run; the larger models are more capable.\n",
        "\n",
        "#### Llama 3.1\n",
        "1. `llama-3.1-8b` - base pretrained 8 billion parameter model\n",
        "1. `llama-3.1-70b` - base pretrained 70 billion parameter model\n",
        "1. `llama-3.1-405b` - base pretrained 405 billion parameter model\n",
        "1. `llama-3.1-8b-instruct` - instruction fine-tuned 8 billion parameter model\n",
        "1. `llama-3.1-70b-instruct` - instruction fine-tuned 70 billion parameter model\n",
        "1. `llama-3.1-405b-instruct` - instruction fine-tuned 405 billion parameter model (flagship)\n",
        "\n",
        "\n",
        "#### Llama 3\n",
        "1. `llama-3-8b` - base pretrained 8 billion parameter model\n",
        "1. `llama-3-70b` - base pretrained 70 billion parameter model\n",
        "1. `llama-3-8b-instruct` - instruction fine-tuned 8 billion parameter model\n",
        "1. `llama-3-70b-instruct` - instruction fine-tuned 70 billion parameter model (flagship)\n",
        "\n",
        "#### Llama 2\n",
        "1. `llama-2-7b` - base pretrained 7 billion parameter model\n",
        "1. `llama-2-13b` - base pretrained 13 billion parameter model\n",
        "1. `llama-2-70b` - base pretrained 70 billion parameter model\n",
        "1. `llama-2-7b-chat` - chat fine-tuned 7 billion parameter model\n",
        "1. `llama-2-13b-chat` - chat fine-tuned 13 billion parameter model\n",
        "1. `llama-2-70b-chat` - chat fine-tuned 70 billion parameter model (flagship)\n"
      ]
    },
    {
      "cell_type": "markdown",
      "metadata": {
        "id": "yDVRoHuZTsLu"
      },
      "source": [
        "Code Llama is a code-focused LLM built on top of Llama 2 also available in various sizes and finetunes:"
      ]
    },
    {
      "cell_type": "markdown",
      "metadata": {
        "id": "bmtXPHDZTsLv"
      },
      "source": [
        "#### Code Llama\n",
        "1. `codellama-7b` - code fine-tuned 7 billion parameter model\n",
        "1. `codellama-13b` - code fine-tuned 13 billion parameter model\n",
        "1. `codellama-34b` - code fine-tuned 34 billion parameter model\n",
        "1. `codellama-70b` - code fine-tuned 70 billion parameter model\n",
        "1. `codellama-7b-instruct` - code & instruct fine-tuned 7 billion parameter model\n",
        "2. `codellama-13b-instruct` - code & instruct fine-tuned 13 billion parameter model\n",
        "3. `codellama-34b-instruct` - code & instruct fine-tuned 34 billion parameter model\n",
        "3. `codellama-70b-instruct` - code & instruct fine-tuned 70 billion parameter model\n",
        "1. `codellama-7b-python` - Python fine-tuned 7 billion parameter model\n",
        "2. `codellama-13b-python` - Python fine-tuned 13 billion parameter model\n",
        "3. `codellama-34b-python` - Python fine-tuned 34 billion parameter model\n",
        "3. `codellama-70b-python` - Python fine-tuned 70 billion parameter model"
      ]
    },
    {
      "cell_type": "markdown",
      "metadata": {
        "id": "9PK3-gwQTsLv"
      },
      "source": [
        "## Getting an LLM\n",
        "\n",
        "Large language models are deployed and accessed in a variety of ways, including:\n",
        "\n",
        "1. **Self-hosting**: Using local hardware to run inference. Ex. running Llama on your Macbook Pro using [llama.cpp](https://github.com/ggerganov/llama.cpp).\n",
        "    * Best for privacy/security or if you already have a GPU.\n",
        "1. **Cloud hosting**: Using a cloud provider to deploy an instance that hosts a specific model. Ex. running Llama on cloud providers like AWS, Azure, GCP, and others.\n",
        "    * Best for customizing models and their runtime (ex. fine-tuning a model for your use case).\n",
        "1. **Hosted API**: Call LLMs directly via an API. There are many companies that provide Llama inference APIs including AWS Bedrock, Replicate, Anyscale, Together and others.\n",
        "    * Easiest option overall."
      ]
    },
    {
      "cell_type": "markdown",
      "metadata": {
        "id": "owZAhlPZTsLv"
      },
      "source": [
        "### Hosted APIs\n",
        "\n",
        "Hosted APIs are the easiest way to get started. We'll use them here. There are usually two main endpoints:\n",
        "\n",
        "1. **`completion`**: generate a response to a given prompt (a string).\n",
        "1. **`chat_completion`**: generate the next message in a list of messages, enabling more explicit instruction and context for use cases like chatbots."
      ]
    },
    {
      "cell_type": "markdown",
      "metadata": {
        "id": "KjZxCXpVTsLv"
      },
      "source": [
        "## Tokens\n",
        "\n",
        "LLMs process inputs and outputs in chunks called *tokens*. Think of these, roughly, as words – each model will have its own tokenization scheme. For example, this sentence...\n",
        "\n",
        "> Our destiny is written in the stars.\n",
        "\n",
        "...is tokenized into `[\"Our\", \" destiny\", \" is\", \" written\", \" in\", \" the\", \" stars\", \".\"]` for Llama 3. See [this](https://tiktokenizer.vercel.app/?model=meta-llama%2FMeta-Llama-3-8B) for an interactive tokenizer tool.\n",
        "\n",
        "Tokens matter most when you consider API pricing and internal behavior (ex. hyperparameters).\n",
        "\n",
        "Each model has a maximum context length that your prompt cannot exceed. That's 128k tokens for Llama 3.1, 4K for Llama 2, and 100K for Code Llama.\n"
      ]
    },
    {
      "cell_type": "markdown",
      "metadata": {
        "id": "vfBe6FbCTsLw"
      },
      "source": [
        "## Notebook Setup\n",
        "\n",
        "The following APIs will be used to call LLMs throughout the guide. As an example, we'll call Llama 3.1 chat using [Grok](https://console.groq.com/playground?model=llama3-70b-8192).\n",
        "\n",
        "To install prerequisites run:"
      ]
    },
    {
      "cell_type": "code",
      "execution_count": null,
      "metadata": {
        "colab": {
          "base_uri": "https://localhost:8080/"
        },
        "id": "H6Dvo8r8TsLw",
        "outputId": "605b0b4b-2b2e-42f9-f533-7a1747bfa184"
      },
      "outputs": [
        {
          "output_type": "stream",
          "name": "stdout",
          "text": [
            "Collecting groq\n",
            "  Downloading groq-0.11.0-py3-none-any.whl.metadata (13 kB)\n",
            "Requirement already satisfied: anyio<5,>=3.5.0 in /usr/local/lib/python3.10/dist-packages (from groq) (3.7.1)\n",
            "Requirement already satisfied: distro<2,>=1.7.0 in /usr/lib/python3/dist-packages (from groq) (1.7.0)\n",
            "Collecting httpx<1,>=0.23.0 (from groq)\n",
            "  Downloading httpx-0.27.2-py3-none-any.whl.metadata (7.1 kB)\n",
            "Requirement already satisfied: pydantic<3,>=1.9.0 in /usr/local/lib/python3.10/dist-packages (from groq) (2.9.2)\n",
            "Requirement already satisfied: sniffio in /usr/local/lib/python3.10/dist-packages (from groq) (1.3.1)\n",
            "Requirement already satisfied: typing-extensions<5,>=4.7 in /usr/local/lib/python3.10/dist-packages (from groq) (4.12.2)\n",
            "Requirement already satisfied: idna>=2.8 in /usr/local/lib/python3.10/dist-packages (from anyio<5,>=3.5.0->groq) (3.10)\n",
            "Requirement already satisfied: exceptiongroup in /usr/local/lib/python3.10/dist-packages (from anyio<5,>=3.5.0->groq) (1.2.2)\n",
            "Requirement already satisfied: certifi in /usr/local/lib/python3.10/dist-packages (from httpx<1,>=0.23.0->groq) (2024.8.30)\n",
            "Collecting httpcore==1.* (from httpx<1,>=0.23.0->groq)\n",
            "  Downloading httpcore-1.0.6-py3-none-any.whl.metadata (21 kB)\n",
            "Collecting h11<0.15,>=0.13 (from httpcore==1.*->httpx<1,>=0.23.0->groq)\n",
            "  Downloading h11-0.14.0-py3-none-any.whl.metadata (8.2 kB)\n",
            "Requirement already satisfied: annotated-types>=0.6.0 in /usr/local/lib/python3.10/dist-packages (from pydantic<3,>=1.9.0->groq) (0.7.0)\n",
            "Requirement already satisfied: pydantic-core==2.23.4 in /usr/local/lib/python3.10/dist-packages (from pydantic<3,>=1.9.0->groq) (2.23.4)\n",
            "Downloading groq-0.11.0-py3-none-any.whl (106 kB)\n",
            "\u001b[2K   \u001b[90m━━━━━━━━━━━━━━━━━━━━━━━━━━━━━━━━━━━━━━━━\u001b[0m \u001b[32m106.5/106.5 kB\u001b[0m \u001b[31m5.2 MB/s\u001b[0m eta \u001b[36m0:00:00\u001b[0m\n",
            "\u001b[?25hDownloading httpx-0.27.2-py3-none-any.whl (76 kB)\n",
            "\u001b[2K   \u001b[90m━━━━━━━━━━━━━━━━━━━━━━━━━━━━━━━━━━━━━━━━\u001b[0m \u001b[32m76.4/76.4 kB\u001b[0m \u001b[31m3.6 MB/s\u001b[0m eta \u001b[36m0:00:00\u001b[0m\n",
            "\u001b[?25hDownloading httpcore-1.0.6-py3-none-any.whl (78 kB)\n",
            "\u001b[2K   \u001b[90m━━━━━━━━━━━━━━━━━━━━━━━━━━━━━━━━━━━━━━━━\u001b[0m \u001b[32m78.0/78.0 kB\u001b[0m \u001b[31m1.5 MB/s\u001b[0m eta \u001b[36m0:00:00\u001b[0m\n",
            "\u001b[?25hDownloading h11-0.14.0-py3-none-any.whl (58 kB)\n",
            "\u001b[2K   \u001b[90m━━━━━━━━━━━━━━━━━━━━━━━━━━━━━━━━━━━━━━━━\u001b[0m \u001b[32m58.3/58.3 kB\u001b[0m \u001b[31m3.1 MB/s\u001b[0m eta \u001b[36m0:00:00\u001b[0m\n",
            "\u001b[?25hInstalling collected packages: h11, httpcore, httpx, groq\n",
            "Successfully installed groq-0.11.0 h11-0.14.0 httpcore-1.0.6 httpx-0.27.2\n"
          ]
        }
      ],
      "source": [
        "import sys\n",
        "!{sys.executable} -m pip install groq"
      ]
    },
    {
      "cell_type": "code",
      "execution_count": null,
      "metadata": {
        "id": "2P2pMUT4TsLw"
      },
      "outputs": [],
      "source": [
        "import os\n",
        "from typing import Dict, List\n",
        "from groq import Groq\n",
        "from google.colab import userdata\n",
        "# Get a free API key from https://console.groq.com/keys\n",
        "os.environ[\"GROQ_API_KEY\"] = userdata.get('GROQ_API_KEY')\n",
        "\n",
        "\n",
        "LLAMA3_405B_INSTRUCT = \"llama-3.1-405b-reasoning\" # Note: Groq currently only gives access here to paying customers for 405B model\n",
        "LLAMA3_70B_INSTRUCT = \"llama-3.1-70b-versatile\"\n",
        "LLAMA3_8B_INSTRUCT = \"llama3.1-8b-instant\"\n",
        "\n",
        "DEFAULT_MODEL = LLAMA3_70B_INSTRUCT\n",
        "\n",
        "client = Groq()\n",
        "\n",
        "def assistant(content: str):\n",
        "    return { \"role\": \"assistant\", \"content\": content }\n",
        "\n",
        "def user(content: str):\n",
        "    return { \"role\": \"user\", \"content\": content }\n",
        "\n",
        "def chat_completion(\n",
        "    messages: List[Dict],\n",
        "    model = DEFAULT_MODEL,\n",
        "    temperature: float = 0.6,\n",
        "    top_p: float = 0.9,\n",
        ") -> str:\n",
        "    response = client.chat.completions.create(\n",
        "        messages=messages,\n",
        "        model=model,\n",
        "        temperature=temperature,\n",
        "        top_p=top_p,\n",
        "    )\n",
        "    return response.choices[0].message.content\n",
        "\n",
        "\n",
        "def completion(\n",
        "    prompt: str,\n",
        "    model: str = DEFAULT_MODEL,\n",
        "    temperature: float = 0.6,\n",
        "    top_p: float = 0.9,\n",
        ") -> str:\n",
        "    return chat_completion(\n",
        "        [user(prompt)],\n",
        "        model=model,\n",
        "        temperature=temperature,\n",
        "        top_p=top_p,\n",
        "    )\n",
        "\n",
        "def complete_and_print(prompt: str, model: str = DEFAULT_MODEL):\n",
        "    print(f'==============\\n{prompt}\\n==============')\n",
        "    response = completion(prompt, model)\n",
        "    print(response, end='\\n\\n')\n"
      ]
    },
    {
      "cell_type": "markdown",
      "metadata": {
        "id": "iDkHJRLHTsLx"
      },
      "source": [
        "### Completion APIs\n",
        "\n",
        "Let's try Llama 3.1!"
      ]
    },
    {
      "cell_type": "code",
      "execution_count": null,
      "metadata": {
        "colab": {
          "base_uri": "https://localhost:8080/"
        },
        "id": "TVDhZIgiTsLx",
        "outputId": "e89b3445-663e-4a8d-ba1c-4d13ee1f64a9"
      },
      "outputs": [
        {
          "output_type": "stream",
          "name": "stdout",
          "text": [
            "==============\n",
            "The typical color of the sky is: \n",
            "==============\n",
            "Blue.\n",
            "\n"
          ]
        }
      ],
      "source": [
        "complete_and_print(\"The typical color of the sky is: \")"
      ]
    },
    {
      "cell_type": "code",
      "execution_count": null,
      "metadata": {
        "colab": {
          "base_uri": "https://localhost:8080/"
        },
        "id": "rFAunMT5TsLx",
        "outputId": "d5119799-ac2f-4718-d636-25700c9b9f83"
      },
      "outputs": [
        {
          "output_type": "stream",
          "name": "stdout",
          "text": [
            "==============\n",
            "which model version are you?\n",
            "==============\n",
            "I'm a large language model, my model version is InstructLLaMA, but for more specific information, I am an InstructLLaMA-011-base model.\n",
            "\n"
          ]
        }
      ],
      "source": [
        "complete_and_print(\"which model version are you?\")"
      ]
    },
    {
      "cell_type": "markdown",
      "metadata": {
        "id": "MVnix_KgTsLx"
      },
      "source": [
        "### Chat Completion APIs\n",
        "Chat completion models provide additional structure to interacting with an LLM. An array of structured message objects is sent to the LLM instead of a single piece of text. This message list provides the LLM with some \"context\" or \"history\" from which to continue.\n",
        "\n",
        "Typically, each message contains `role` and `content`:\n",
        "* Messages with the `system` role are used to provide core instruction to the LLM by developers.\n",
        "* Messages with the `user` role are typically human-provided messages.\n",
        "* Messages with the `assistant` role are typically generated by the LLM."
      ]
    },
    {
      "cell_type": "code",
      "execution_count": null,
      "metadata": {
        "colab": {
          "base_uri": "https://localhost:8080/"
        },
        "id": "dFObM4r4TsLx",
        "outputId": "2b3eef02-5476-4089-e643-237f70e65181"
      },
      "outputs": [
        {
          "output_type": "stream",
          "name": "stdout",
          "text": [
            "Your favorite color is blue.\n"
          ]
        }
      ],
      "source": [
        "response = chat_completion(messages=[\n",
        "    user(\"My favorite color is blue.\"),\n",
        "    assistant(\"That's great to hear!\"),\n",
        "    user(\"What is my favorite color?\"),\n",
        "])\n",
        "print(response)\n",
        "# \"Sure, I can help you with that! Your favorite color is blue.\""
      ]
    },
    {
      "cell_type": "markdown",
      "metadata": {
        "id": "lVWIkNbjTsLx"
      },
      "source": [
        "### LLM Hyperparameters\n",
        "\n",
        "#### `temperature` & `top_p`\n",
        "\n",
        "These APIs also take parameters which influence the creativity and determinism of your output.\n",
        "\n",
        "At each step, LLMs generate a list of most likely tokens and their respective probabilities. The least likely tokens are \"cut\" from the list (based on `top_p`), and then a token is randomly selected from the remaining candidates (`temperature`).\n",
        "\n",
        "In other words: `top_p` controls the breadth of vocabulary in a generation and `temperature` controls the randomness within that vocabulary. A temperature of ~0 produces *almost* deterministic results.\n",
        "\n",
        "[Read more about temperature setting here](https://community.openai.com/t/cheat-sheet-mastering-temperature-and-top-p-in-chatgpt-api-a-few-tips-and-tricks-on-controlling-the-creativity-deterministic-output-of-prompt-responses/172683).\n",
        "\n",
        "Let's try it out:"
      ]
    },
    {
      "cell_type": "code",
      "execution_count": null,
      "metadata": {
        "colab": {
          "base_uri": "https://localhost:8080/"
        },
        "id": "ESofwjAvTsLy",
        "outputId": "1a08de23-ba67-4efe-d0c4-6ee14d270c4d"
      },
      "outputs": [
        {
          "output_type": "stream",
          "name": "stdout",
          "text": [
            "[temperature: 0.01 | top_p: 0.01]\n",
            "Softly gentle eyes\n",
            "Llama's gentle humming song\n",
            "Misty Andean night\n",
            "\n",
            "[temperature: 0.01 | top_p: 0.01]\n",
            "Softly gentle eyes\n",
            "Llama's gentle humming song\n",
            "Misty Andean night\n",
            "\n",
            "[temperature: 1.0 | top_p: 1.0]\n",
            "Softly gentle eyes\n",
            "Fuzzy llama's peaceful soul\n",
            "Nature's calm delight\n",
            "\n",
            "[temperature: 1.0 | top_p: 1.0]\n",
            "Softly furry coat\n",
            "Gentle eyes and wispy ears\n",
            "Llama's gentle pace\n",
            "\n"
          ]
        }
      ],
      "source": [
        "def print_tuned_completion(temperature: float, top_p: float):\n",
        "    response = completion(\"Write a haiku about llamas\", temperature=temperature, top_p=top_p)\n",
        "    print(f'[temperature: {temperature} | top_p: {top_p}]\\n{response.strip()}\\n')\n",
        "\n",
        "print_tuned_completion(0.01, 0.01)\n",
        "print_tuned_completion(0.01, 0.01)\n",
        "# These two generations are highly likely to be the same\n",
        "\n",
        "print_tuned_completion(1.0, 1.0)\n",
        "print_tuned_completion(1.0, 1.0)\n",
        "# These two generations are highly likely to be different"
      ]
    },
    {
      "cell_type": "markdown",
      "metadata": {
        "id": "GCJx4gKGTsLy"
      },
      "source": [
        "## Prompting Techniques"
      ]
    },
    {
      "cell_type": "markdown",
      "metadata": {
        "id": "6niRon8XTsLy"
      },
      "source": [
        "### Explicit Instructions\n",
        "\n",
        "Detailed, explicit instructions produce better results than open-ended prompts:"
      ]
    },
    {
      "cell_type": "code",
      "execution_count": null,
      "metadata": {
        "colab": {
          "base_uri": "https://localhost:8080/"
        },
        "id": "dLleXcDGTsLy",
        "outputId": "874c8c1a-cf0b-479f-dea8-c7dc117ea9bc"
      },
      "outputs": [
        {
          "output_type": "stream",
          "name": "stdout",
          "text": [
            "==============\n",
            "Describe quantum physics in one short sentence of no more than 12 words\n",
            "==============\n",
            "Quantum physics studies the behavior of tiny particles at atomic level.\n",
            "\n"
          ]
        }
      ],
      "source": [
        "complete_and_print(prompt=\"Describe quantum physics in one short sentence of no more than 12 words\")\n",
        "# Returns a succinct explanation of quantum physics that mentions particles and states existing simultaneously."
      ]
    },
    {
      "cell_type": "markdown",
      "metadata": {
        "id": "nB5J-GUQTsLz"
      },
      "source": [
        "You can think about giving explicit instructions as using rules and restrictions to how Llama 3 responds to your prompt.\n",
        "\n",
        "- Stylization\n",
        "    - `Explain this to me like a topic on a children's educational network show teaching elementary students.`\n",
        "    - `I'm a software engineer using large language models for summarization. Summarize the following text in under 250 words:`\n",
        "    - `Give your answer like an old timey private investigator hunting down a case step by step.`\n",
        "- Formatting\n",
        "    - `Use bullet points.`\n",
        "    - `Return as a JSON object.`\n",
        "    - `Use less technical terms and help me apply it in my work in communications.`\n",
        "- Restrictions\n",
        "    - `Only use academic papers.`\n",
        "    - `Never give sources older than 2020.`\n",
        "    - `If you don't know the answer, say that you don't know.`\n",
        "\n",
        "Here's an example of giving explicit instructions to give more specific results by limiting the responses to recently created sources."
      ]
    },
    {
      "cell_type": "code",
      "execution_count": null,
      "metadata": {
        "colab": {
          "base_uri": "https://localhost:8080/"
        },
        "id": "-AlIeA97TsLz",
        "outputId": "204b3b0f-ccb9-4f02-b795-05a8612b417e"
      },
      "outputs": [
        {
          "output_type": "stream",
          "name": "stdout",
          "text": [
            "==============\n",
            "Explain the latest advances in large language models to me.\n",
            "==============\n",
            "The field of large language models has witnessed significant advancements in recent years, with the development of more sophisticated architectures, training methods, and applications. Here are some of the latest advances:\n",
            "\n",
            "1. **Transformer-XL and Longformer**: The Transformer-XL and Longformer models have been introduced to improve the efficiency and scalability of large language models. These models use techniques such as segment-level recurrence, relative positional encoding, and sparse attention to handle longer input sequences.\n",
            "2. **BERT and its variants**: BERT (Bidirectional Encoder Representations from Transformers) has been a groundbreaking model in the field of natural language processing (NLP). Variants such as RoBERTa, DistilBERT, and ALBERT have been introduced to improve upon BERT's performance, efficiency, and interpretability.\n",
            "3. **Generative Pre-trained Transformers (GPT)**: The GPT series, including GPT-3 and GPT-4, have demonstrated state-of-the-art performance in various NLP tasks, such as language translation, text summarization, and question answering. These models have also been used for text generation, chatbots, and other applications.\n",
            "4. **Multitask learning and few-shot learning**: Large language models are now being trained on multiple tasks simultaneously, which has improved their ability to generalize across different tasks and domains. Few-shot learning, where models are fine-tuned on a small number of examples, has also become a popular approach for adapting models to new tasks.\n",
            "5. **Efficient inference and pruning**: Researchers have been exploring techniques to reduce the computational cost and memory requirements of large language models during inference. Methods such as knowledge distillation, pruning, and quantization have been proposed to make these models more efficient.\n",
            "6. **Explainability and interpretability**: As large language models become more ubiquitous, there is a growing need to understand their decision-making processes. Techniques such as attention visualization, feature importance, and model interpretability have been developed to provide insights into these models.\n",
            "7. **Large language models for low-resource languages**: Researchers have been working on adapting large language models to low-resource languages, where the availability of training data is limited. This has led to the development of models such as mBERT and XLM-R, which have shown impressive performance on low-resource languages.\n",
            "8. **Multimodal large language models**: With the increasing availability of multimodal data (e.g., text, images, audio), researchers have been exploring the development of large language models that can process and generate multimodal content. This has led to the creation of models such as Visual BERT and Multimodal Transformers.\n",
            "\n",
            "Some of the recent models that have gained significant attention include:\n",
            "\n",
            "* **PaLM**: A large language model developed by Google that has demonstrated state-of-the-art performance on various NLP tasks.\n",
            "* **Llama**: A large language model developed by Meta AI that has shown impressive performance on a range of NLP tasks, including language translation and text generation.\n",
            "* **ChatGPT**: A chatbot developed by OpenAI that uses a large language model to generate human-like text responses.\n",
            "\n",
            "These are just a few examples of the latest advances in large language models. The field is rapidly evolving, and we can expect to see even more exciting developments in the coming years.\n",
            "\n",
            "==============\n",
            "Explain the latest advances in large language models to me. Always cite your sources. Never cite sources older than 2020.\n",
            "==============\n",
            "Recent advances in large language models have led to significant improvements in their performance, efficiency, and capabilities. Here are some of the latest developments:\n",
            "\n",
            "1. **Efficient Transformers**: Researchers have proposed various efficient transformer architectures that reduce computational costs while maintaining performance. For example, the \"Longformer\" model (Beltagy et al., 2020) uses a combination of local and global attention mechanisms to reduce the computational complexity of self-attention. Another example is the \"BigBird\" model (Zaheer et al., 2021), which uses a combination of global and local attention mechanisms to achieve state-of-the-art results on several NLP tasks.\n",
            "\n",
            "2. **Multitask Learning**: Multitask learning has become increasingly popular in large language models. For example, the \"T5\" model (Raffel et al., 2020) is a multitask learning framework that combines multiple NLP tasks into a single model. The \"T0\" model (Sanh et al., 2022) is another example of a multitask learning framework that uses a combination of supervised and unsupervised learning to achieve state-of-the-art results on several NLP tasks.\n",
            "\n",
            "3. **Large-Scale Pretraining**: Large-scale pretraining has become a crucial component of large language models. For example, the \"OPT\" model (Zhang et al., 2022) is a large language model that was pretrained on a massive dataset of 180 billion parameters. The \"Llama\" model (Facebook, 2023) is another example of a large language model that was pretrained on a massive dataset of 65 billion parameters.\n",
            "\n",
            "4. **Explainability and Interpretability**: Researchers have also made significant progress in developing techniques for explaining and interpreting the behavior of large language models. For example, the \"TransformerLens\" framework (Hao et al., 2022) provides a set of tools for visualizing and analyzing the behavior of transformer-based language models.\n",
            "\n",
            "5. **Efficient Inference**: Efficient inference has become increasingly important for large language models, as they are often deployed in real-world applications where computational resources are limited. For example, the \"DeepSpeed\" framework (Rasley et al., 2020) provides a set of tools for optimizing the inference speed of large language models.\n",
            "\n",
            "References:\n",
            "- Beltagy, I., Peters, M. E., & Cohan, A. (2020). Longformer: The long-document transformer. arXiv preprint arXiv:2004.05150.\n",
            "- Zaheer, M., Guruganesh, G., Dubey, A., Ainslie, J., Alberti, C., Ontanon, S., ... & Ahmed, A. (2021). Big bird: Transformers for longer sequences. Advances in Neural Information Processing Systems, 34.\n",
            "- Raffel, C., Shazeer, N., Roberts, A., Lee, K., Narang, S., Matena, M., ... & Liu, P. J. (2020). Exploring the limits of transfer learning with a unified text-to-text transformer. Journal of Machine Learning Research, 21(140), 1-67.\n",
            "- Sanh, V., Debut, L., Chaumond, J., & Wolf, T. (2022). Multitask prompted training enables zero-shot task generalization. arXiv preprint arXiv:2112.11941.\n",
            "- Zhang, Y., Dai, Z., Yang, J., Yang, J., Carbonell, J., & Hovy, E. (2022). OPT: Open pre-trained transformer language models. arXiv preprint arXiv:2205.01068.\n",
            "- Facebook. (2023). Llama: A large language model developed by Meta.\n",
            "- Hao, Y., Li, X., & Li, J. (2022). TransformerLens: A unified framework for visualizing and analyzing transformer-based language models. arXiv preprint arXiv:2204.06745.\n",
            "- Rasley, J., Li, J., Li, Y., & Li, J. (2020). DeepSpeed: A deep learning optimization library. arXiv preprint arXiv:2006.04668.\n",
            "\n"
          ]
        }
      ],
      "source": [
        "complete_and_print(\"Explain the latest advances in large language models to me.\")\n",
        "# More likely to cite sources from 2017\n",
        "\n",
        "complete_and_print(\"Explain the latest advances in large language models to me. Always cite your sources. Never cite sources older than 2020.\")\n",
        "# Gives more specific advances and only cites sources from 2020"
      ]
    },
    {
      "cell_type": "markdown",
      "metadata": {
        "id": "jn1GBD6nTsLz"
      },
      "source": [
        "### Example Prompting using Zero- and Few-Shot Learning\n",
        "\n",
        "A shot is an example or demonstration of what type of prompt and response you expect from a large language model. This term originates from training computer vision models on photographs, where one shot was one example or instance that the model used to classify an image ([Fei-Fei et al. (2006)](http://vision.stanford.edu/documents/Fei-FeiFergusPerona2006.pdf)).\n",
        "\n",
        "#### Zero-Shot Prompting\n",
        "\n",
        "Large language models like Llama 3 are unique because they are capable of following instructions and producing responses without having previously seen an example of a task. Prompting without examples is called \"zero-shot prompting\".\n",
        "\n",
        "Let's try using Llama 3 as a sentiment detector. You may notice that output format varies - we can improve this with better prompting."
      ]
    },
    {
      "cell_type": "code",
      "execution_count": null,
      "metadata": {
        "colab": {
          "base_uri": "https://localhost:8080/"
        },
        "id": "rlCQ-X0NTsLz",
        "outputId": "0c2d923d-efdc-4908-bb43-823086d7d0b4"
      },
      "outputs": [
        {
          "output_type": "stream",
          "name": "stdout",
          "text": [
            "==============\n",
            "Text: This was the best movie I've ever seen! \n",
            " The sentiment of the text is: \n",
            "==============\n",
            "The sentiment of the text is: Positive.\n",
            "\n",
            "==============\n",
            "Text: The director was trying too hard. \n",
            " The sentiment of the text is: \n",
            "==============\n",
            "The sentiment of the text is negative.\n",
            "\n"
          ]
        }
      ],
      "source": [
        "complete_and_print(\"Text: This was the best movie I've ever seen! \\n The sentiment of the text is: \")\n",
        "# Returns positive sentiment\n",
        "\n",
        "complete_and_print(\"Text: The director was trying too hard. \\n The sentiment of the text is: \")\n",
        "# Returns negative sentiment"
      ]
    },
    {
      "cell_type": "markdown",
      "metadata": {
        "id": "ER2c4Bs6TsLz"
      },
      "source": [
        "\n",
        "#### Few-Shot Prompting\n",
        "\n",
        "Adding specific examples of your desired output generally results in more accurate, consistent output. This technique is called \"few-shot prompting\".\n",
        "\n",
        "In this example, the generated response follows our desired format that offers a more nuanced sentiment classifer that gives a positive, neutral, and negative response confidence percentage.\n",
        "\n",
        "See also: [Zhao et al. (2021)](https://arxiv.org/abs/2102.09690), [Liu et al. (2021)](https://arxiv.org/abs/2101.06804), [Su et al. (2022)](https://arxiv.org/abs/2209.01975), [Rubin et al. (2022)](https://arxiv.org/abs/2112.08633).\n",
        "\n"
      ]
    },
    {
      "cell_type": "code",
      "execution_count": null,
      "metadata": {
        "colab": {
          "base_uri": "https://localhost:8080/"
        },
        "id": "Ij9WRzIfTsLz",
        "outputId": "1f960a1e-b98e-469c-d0e8-e7b7909fe440"
      },
      "outputs": [
        {
          "output_type": "stream",
          "name": "stdout",
          "text": [
            "INPUT: I thought it was okay\n",
            "10% positive 80% neutral 10% negative\n",
            "INPUT: I loved it!\n",
            "90% positive 10% neutral 0% negative\n",
            "INPUT: Terrible service 0/10\n",
            "0% positive 0% neutral 100% negative\n"
          ]
        }
      ],
      "source": [
        "def sentiment(text):\n",
        "    response = chat_completion(messages=[\n",
        "        user(\"You are a sentiment classifier. For each message, give the percentage of positive/netural/negative.\"),\n",
        "        user(\"I liked it\"),\n",
        "        assistant(\"70% positive 30% neutral 0% negative\"),\n",
        "        user(\"It could be better\"),\n",
        "        assistant(\"0% positive 50% neutral 50% negative\"),\n",
        "        user(\"It's fine\"),\n",
        "        assistant(\"25% positive 50% neutral 25% negative\"),\n",
        "        user(text),\n",
        "    ])\n",
        "    return response\n",
        "\n",
        "def print_sentiment(text):\n",
        "    print(f'INPUT: {text}')\n",
        "    print(sentiment(text))\n",
        "\n",
        "print_sentiment(\"I thought it was okay\")\n",
        "# More likely to return a balanced mix of positive, neutral, and negative\n",
        "print_sentiment(\"I loved it!\")\n",
        "# More likely to return 100% positive\n",
        "print_sentiment(\"Terrible service 0/10\")\n",
        "# More likely to return 100% negative"
      ]
    },
    {
      "cell_type": "markdown",
      "metadata": {
        "id": "xn7i_TuBTsLz"
      },
      "source": [
        "### Role Prompting\n",
        "\n",
        "Llama will often give more consistent responses when given a role ([Kong et al. (2023)](https://browse.arxiv.org/pdf/2308.07702.pdf)). Roles give context to the LLM on what type of answers are desired.\n",
        "\n",
        "Let's use Llama 3 to create a more focused, technical response for a question around the pros and cons of using PyTorch."
      ]
    },
    {
      "cell_type": "code",
      "execution_count": null,
      "metadata": {
        "colab": {
          "base_uri": "https://localhost:8080/"
        },
        "id": "cHQQzK_wTsLz",
        "outputId": "9782d23b-43cd-4873-a241-f5a0ab895705"
      },
      "outputs": [
        {
          "output_type": "stream",
          "name": "stdout",
          "text": [
            "==============\n",
            "Explain the pros and cons of using PyTorch.\n",
            "==============\n",
            "**PyTorch Pros and Cons**\n",
            "==========================\n",
            "\n",
            "PyTorch is a popular open-source machine learning library developed by Facebook's AI Research Lab (FAIR). It provides a dynamic computation graph and automatic differentiation for rapid prototyping and research. Here are the pros and cons of using PyTorch:\n",
            "\n",
            "**Pros**\n",
            "--------\n",
            "\n",
            "### 1. **Dynamic Computation Graph**\n",
            "\n",
            "PyTorch's computation graph is built on the fly, allowing for more flexibility and ease of use. This is particularly useful for rapid prototyping and research.\n",
            "\n",
            "### 2. **Automatic Differentiation**\n",
            "\n",
            "PyTorch's autograd system automatically computes gradients, making it easier to implement backpropagation and optimize models.\n",
            "\n",
            "### 3. **Rapid Prototyping**\n",
            "\n",
            "PyTorch's dynamic computation graph and autograd system make it ideal for rapid prototyping and research. It allows developers to quickly test and iterate on ideas.\n",
            "\n",
            "### 4. **Modular Architecture**\n",
            "\n",
            "PyTorch's modular architecture makes it easy to build and customize models. Developers can easily swap out components and experiment with different architectures.\n",
            "\n",
            "### 5. **Large Community**\n",
            "\n",
            "PyTorch has a large and active community, which means there are many resources available, including tutorials, documentation, and pre-trained models.\n",
            "\n",
            "### 6. **Extensive Support for GPU Acceleration**\n",
            "\n",
            "PyTorch has extensive support for GPU acceleration, making it ideal for large-scale deep learning applications.\n",
            "\n",
            "### 7. **Interoperability with Other Libraries**\n",
            "\n",
            "PyTorch can be easily integrated with other popular machine learning libraries, such as NumPy, SciPy, and scikit-learn.\n",
            "\n",
            "**Cons**\n",
            "--------\n",
            "\n",
            "### 1. **Steeper Learning Curve**\n",
            "\n",
            "PyTorch has a steeper learning curve than some other machine learning libraries, particularly for developers without prior experience with dynamic computation graphs.\n",
            "\n",
            "### 2. **Less Support for Production Environments**\n",
            "\n",
            "While PyTorch is well-suited for research and rapid prototyping, it may not be the best choice for production environments. It can be less stable and less optimized for large-scale deployment.\n",
            "\n",
            "### 3. **Less Extensive Support for Distributed Training**\n",
            "\n",
            "PyTorch's support for distributed training is less extensive than some other libraries, such as TensorFlow. However, this is improving with the release of PyTorch Distributed.\n",
            "\n",
            "### 4. **Less Extensive Support for Visualization Tools**\n",
            "\n",
            "PyTorch has less extensive support for visualization tools than some other libraries, such as TensorFlow. However, there are still many visualization tools available, such as TensorBoard and PyTorch Ignite.\n",
            "\n",
            "### 5. **Less Extensive Support for Pre-Built Estimators**\n",
            "\n",
            "PyTorch has less extensive support for pre-built estimators than some other libraries, such as scikit-learn. However, there are still many pre-built estimators available, such as PyTorch Lightning.\n",
            "\n",
            "**Example Use Case**\n",
            "--------------------\n",
            "\n",
            "Here's an example use case for PyTorch:\n",
            "```python\n",
            "import torch\n",
            "import torch.nn as nn\n",
            "import torch.optim as optim\n",
            "\n",
            "# Define a simple neural network\n",
            "class Net(nn.Module):\n",
            "    def __init__(self):\n",
            "        super(Net, self).__init__()\n",
            "        self.fc1 = nn.Linear(5, 10)\n",
            "        self.fc2 = nn.Linear(10, 5)\n",
            "\n",
            "    def forward(self, x):\n",
            "        x = torch.relu(self.fc1(x))\n",
            "        x = self.fc2(x)\n",
            "        return x\n",
            "\n",
            "# Initialize the network and optimizer\n",
            "net = Net()\n",
            "criterion = nn.MSELoss()\n",
            "optimizer = optim.SGD(net.parameters(), lr=0.01)\n",
            "\n",
            "# Train the network\n",
            "for epoch in range(100):\n",
            "    inputs = torch.randn(100, 5)\n",
            "    labels = torch.randn(100, 5)\n",
            "    optimizer.zero_grad()\n",
            "    outputs = net(inputs)\n",
            "    loss = criterion(outputs, labels)\n",
            "    loss.backward()\n",
            "    optimizer.step()\n",
            "    print(f'Epoch {epoch+1}, Loss: {loss.item()}')\n",
            "```\n",
            "This example demonstrates how to define a simple neural network, initialize the network and optimizer, and train the network using PyTorch.\n",
            "\n",
            "==============\n",
            "Your role is a machine learning expert who gives highly technical advice to senior engineers who work with complicated datasets. Explain the pros and cons of using PyTorch.\n",
            "==============\n",
            "**PyTorch: A Technical Analysis of Pros and Cons**\n",
            "\n",
            "As a machine learning expert, I often work with senior engineers to evaluate the suitability of various deep learning frameworks for their projects. PyTorch is a popular choice among researchers and practitioners alike, but it's essential to weigh its pros and cons before deciding whether it's the right fit for your project.\n",
            "\n",
            "**Pros:**\n",
            "\n",
            "### 1. **Dynamic Computation Graphs**\n",
            "\n",
            "PyTorch's dynamic computation graph (DCG) architecture allows for more flexible and efficient computation. Unlike static computation graphs used in TensorFlow, PyTorch's DCGs are built on the fly, enabling easier debugging and more efficient computation.\n",
            "\n",
            "### 2. **Rapid Prototyping**\n",
            "\n",
            "PyTorch's Pythonic API and dynamic nature make it an ideal choice for rapid prototyping. Its ease of use and flexibility enable developers to quickly experiment with different architectures and ideas.\n",
            "\n",
            "### 3. **Autograd System**\n",
            "\n",
            "PyTorch's autograd system provides automatic differentiation, which is essential for computing gradients in neural networks. This system is highly efficient and allows for complex computations.\n",
            "\n",
            "### 4. **Modular Design**\n",
            "\n",
            "PyTorch's modular design enables developers to easily extend and customize the framework. This modularity also facilitates the integration of PyTorch with other frameworks and libraries.\n",
            "\n",
            "### 5. **Strong Community Support**\n",
            "\n",
            "PyTorch has a large and active community, which ensures that there are many resources available for learning and troubleshooting.\n",
            "\n",
            "**Cons:**\n",
            "\n",
            "### 1. **Performance Overhead**\n",
            "\n",
            "PyTorch's dynamic computation graphs can introduce performance overhead due to the overhead of creating and managing the graph at runtime. This can be mitigated by using PyTorch's `jit` (Just-In-Time) compiler or the `torchscript` module.\n",
            "\n",
            "### 2. **Limited Support for Distributed Training**\n",
            "\n",
            "While PyTorch provides some built-in support for distributed training, it is not as robust as TensorFlow's support. However, this is being actively addressed by the PyTorch team.\n",
            "\n",
            "### 3. **Less Mature Production-Ready Tools**\n",
            "\n",
            "Compared to TensorFlow, PyTorch's production-ready tools, such as model serving and monitoring, are less mature. However, this is changing rapidly as PyTorch gains popularity.\n",
            "\n",
            "### 4. **Steep Learning Curve for Advanced Features**\n",
            "\n",
            "While PyTorch's basic API is easy to use, its advanced features, such as the `jit` compiler and `torchscript`, require a deeper understanding of the framework and its internals.\n",
            "\n",
            "### 5. **Limited Support for Certain Hardware**\n",
            "\n",
            "PyTorch's support for certain hardware, such as Google's TPUs, is limited compared to TensorFlow.\n",
            "\n",
            "**Conclusion:**\n",
            "\n",
            "PyTorch is a powerful and flexible deep learning framework that is well-suited for rapid prototyping and research. While it has some performance overhead and limited support for distributed training, these limitations are being actively addressed by the PyTorch team. If you're working on a project that requires rapid experimentation and prototyping, PyTorch may be an excellent choice. However, if you're working on a large-scale production project, you may want to consider TensorFlow or another framework with more mature production-ready tools.\n",
            "\n",
            "**Example Use Case:**\n",
            "\n",
            "Suppose you're working on a project that involves training a complex neural network architecture on a large dataset. You want to rapidly experiment with different architectures and hyperparameters to find the best model. In this case, PyTorch's dynamic computation graphs and rapid prototyping capabilities make it an ideal choice.\n",
            "\n",
            "```python\n",
            "import torch\n",
            "import torch.nn as nn\n",
            "import torch.optim as optim\n",
            "\n",
            "# Define a simple neural network architecture\n",
            "class Net(nn.Module):\n",
            "    def __init__(self):\n",
            "        super(Net, self).__init__()\n",
            "        self.fc1 = nn.Linear(784, 128)\n",
            "        self.fc2 = nn.Linear(128, 10)\n",
            "\n",
            "    def forward(self, x):\n",
            "        x = torch.relu(self.fc1(x))\n",
            "        x = self.fc2(x)\n",
            "        return x\n",
            "\n",
            "# Initialize the network, optimizer, and loss function\n",
            "net = Net()\n",
            "optimizer = optim.SGD(net.parameters(), lr=0.01)\n",
            "criterion = nn.CrossEntropyLoss()\n",
            "\n",
            "# Train the network\n",
            "for epoch in range(10):\n",
            "    optimizer.zero_grad()\n",
            "    outputs = net(inputs)\n",
            "    loss = criterion(outputs, labels)\n",
            "    loss.backward()\n",
            "    optimizer.step()\n",
            "```\n",
            "\n",
            "In this example, PyTorch's dynamic computation graphs and rapid prototyping capabilities enable you to quickly experiment with different architectures and hyperparameters to find the best model.\n",
            "\n"
          ]
        }
      ],
      "source": [
        "complete_and_print(\"Explain the pros and cons of using PyTorch.\")\n",
        "# More likely to explain the pros and cons of PyTorch covers general areas like documentation, the PyTorch community, and mentions a steep learning curve\n",
        "\n",
        "complete_and_print(\"Your role is a machine learning expert who gives highly technical advice to senior engineers who work with complicated datasets. Explain the pros and cons of using PyTorch.\")\n",
        "# Often results in more technical benefits and drawbacks that provide more technical details on how model layers"
      ]
    },
    {
      "cell_type": "markdown",
      "metadata": {
        "id": "PwhFFn8QTsLz"
      },
      "source": [
        "### Chain-of-Thought\n",
        "\n",
        "Simply adding a phrase encouraging step-by-step thinking \"significantly improves the ability of large language models to perform complex reasoning\" ([Wei et al. (2022)](https://arxiv.org/abs/2201.11903)). This technique is called \"CoT\" or \"Chain-of-Thought\" prompting.\n",
        "\n",
        "Llama 3.1 now reasons step-by-step naturally without the addition of the phrase. This section remains for completeness."
      ]
    },
    {
      "cell_type": "code",
      "execution_count": null,
      "metadata": {
        "colab": {
          "base_uri": "https://localhost:8080/"
        },
        "id": "VEjX8Me5TsLz",
        "outputId": "02314999-367c-44ef-cc68-78937cc2f57c"
      },
      "outputs": [
        {
          "output_type": "stream",
          "name": "stdout",
          "text": [
            "==============\n",
            "Who lived longer, Mozart or Elvis?\n",
            "==============\n",
            "Wolfgang Amadeus Mozart lived from January 27, 1756, to December 5, 1791. He was 35 years old when he died.\n",
            "\n",
            "Elvis Presley lived from January 8, 1935, to August 16, 1977. He was 42 years old when he died.\n",
            "\n",
            "Elvis Presley lived about 7 years longer than Mozart.\n",
            "\n",
            "==============\n",
            "Who lived longer, Mozart or Elvis? Let's think through this carefully, step by step.\n",
            "==============\n",
            "To determine who lived longer, Mozart or Elvis, we need to find out the birth and death dates for both of them. \n",
            "\n",
            "Mozart was born on January 27, 1756, and died on December 5, 1791. \n",
            "Elvis was born on January 8, 1935, and died on August 16, 1977.\n",
            "\n",
            "Now, let's calculate the age of each at the time of death. \n",
            "\n",
            "Mozart lived for 35 years (1791 - 1756).\n",
            "Elvis lived for 42 years (1977 - 1935).\n",
            "\n",
            "Comparing the two, Elvis lived 7 years longer than Mozart.\n",
            "\n"
          ]
        }
      ],
      "source": [
        "prompt = \"Who lived longer, Mozart or Elvis?\"\n",
        "\n",
        "complete_and_print(prompt)\n",
        "# Llama 2 would often give the incorrect answer of \"Mozart\"\n",
        "\n",
        "complete_and_print(f\"{prompt} Let's think through this carefully, step by step.\")\n",
        "# Gives the correct answer \"Elvis\""
      ]
    },
    {
      "cell_type": "markdown",
      "metadata": {
        "id": "XCU9cAchTsLz"
      },
      "source": [
        "### Self-Consistency\n",
        "\n",
        "LLMs are probablistic, so even with Chain-of-Thought, a single generation might produce incorrect results. Self-Consistency ([Wang et al. (2022)](https://arxiv.org/abs/2203.11171)) introduces enhanced accuracy by selecting the most frequent answer from multiple generations (at the cost of higher compute):"
      ]
    },
    {
      "cell_type": "code",
      "execution_count": null,
      "metadata": {
        "colab": {
          "base_uri": "https://localhost:8080/"
        },
        "id": "ghM0DGH4TsLz",
        "outputId": "7a9101f1-5953-47a6-cd88-4a5157ab5dff"
      },
      "outputs": [
        {
          "output_type": "stream",
          "name": "stdout",
          "text": [
            "Answers: ['50', '50', '50', '50', '50']\n",
            " Final answer: 50\n"
          ]
        }
      ],
      "source": [
        "import re\n",
        "from statistics import mode\n",
        "\n",
        "def gen_answer():\n",
        "    response = completion(\n",
        "        \"John found that the average of 15 numbers is 40.\"\n",
        "        \"If 10 is added to each number then the mean of the numbers is?\"\n",
        "        \"Report the answer surrounded by backticks (example: `123`)\",\n",
        "    )\n",
        "    match = re.search(r'`(\\d+)`', response)\n",
        "    if match is None:\n",
        "        return None\n",
        "    return match.group(1)\n",
        "\n",
        "answers = [gen_answer() for i in range(5)]\n",
        "\n",
        "print(\n",
        "    f\"Answers: {answers}\\n\",\n",
        "    f\"Final answer: {mode(answers)}\",\n",
        "    )\n",
        "\n",
        "# Sample runs of Llama-3-70B (all correct):\n",
        "# ['60', '50', '50', '50', '50'] -> 50\n",
        "# ['50', '50', '50', '60', '50'] -> 50\n",
        "# ['50', '50', '60', '50', '50'] -> 50"
      ]
    },
    {
      "cell_type": "markdown",
      "metadata": {
        "id": "aKeL6w3NTsLz"
      },
      "source": [
        "### Retrieval-Augmented Generation\n",
        "\n",
        "You'll probably want to use factual knowledge in your application. You can extract common facts from today's large models out-of-the-box (i.e. using just the model weights):"
      ]
    },
    {
      "cell_type": "code",
      "execution_count": null,
      "metadata": {
        "colab": {
          "base_uri": "https://localhost:8080/"
        },
        "id": "JxMQVLt6TsLz",
        "outputId": "62d6adfb-7f99-4902-8fd4-173c87f5056b"
      },
      "outputs": [
        {
          "output_type": "stream",
          "name": "stdout",
          "text": [
            "==============\n",
            "What is the capital of the California?\n",
            "==============\n",
            "The capital of California is Sacramento.\n",
            "\n"
          ]
        }
      ],
      "source": [
        "complete_and_print(\"What is the capital of the California?\")\n",
        "# Gives the correct answer \"Sacramento\""
      ]
    },
    {
      "cell_type": "markdown",
      "metadata": {
        "id": "bJOjcaw3TsL0"
      },
      "source": [
        "However, more specific facts, or private information, cannot be reliably retrieved. The model will either declare it does not know or hallucinate an incorrect answer:"
      ]
    },
    {
      "cell_type": "code",
      "execution_count": null,
      "metadata": {
        "colab": {
          "base_uri": "https://localhost:8080/"
        },
        "id": "xEuclnuDTsL0",
        "outputId": "587f3328-0489-4a38-9ecc-3220b1e19a95"
      },
      "outputs": [
        {
          "output_type": "stream",
          "name": "stdout",
          "text": [
            "==============\n",
            "What was the temperature in Menlo Park on December 12th, 2023?\n",
            "==============\n",
            "I'm not able to provide real-time or current information, and my knowledge cutoff is December 2023. I also do not have access to specific historical weather data for a particular location like Menlo Park on a specific date. However, I can suggest some options for you to find the temperature in Menlo Park on December 12th, 2023.\n",
            "\n",
            "You can try checking websites that provide historical weather data, such as:\n",
            "\n",
            "* National Weather Service (NWS)\n",
            "* Weather Underground\n",
            "* AccuWeather\n",
            "* Dark Sky (now part of Apple)\n",
            "\n",
            "You can also try searching online for \"Menlo Park weather December 12th, 2023\" or \"Menlo Park historical weather data\" to see if any websites or news articles have information about the temperature on that specific date.\n",
            "\n",
            "==============\n",
            "What time is my dinner reservation on Saturday and what should I wear?\n",
            "==============\n",
            "I'm not aware of any information about your dinner reservation, including the time or dress code. I'm a large language model, I don't have access to your personal schedule or preferences. If you're unsure about your reservation, I suggest checking your calendar or contacting the restaurant directly to confirm the details.\n",
            "\n"
          ]
        }
      ],
      "source": [
        "complete_and_print(\"What was the temperature in Menlo Park on December 12th, 2023?\")\n",
        "# \"I'm just an AI, I don't have access to real-time weather data or historical weather records.\"\n",
        "\n",
        "complete_and_print(\"What time is my dinner reservation on Saturday and what should I wear?\")\n",
        "# \"I'm not able to access your personal information [..] I can provide some general guidance\""
      ]
    },
    {
      "cell_type": "markdown",
      "metadata": {
        "id": "LmfSjEy3TsL0"
      },
      "source": [
        "Retrieval-Augmented Generation, or RAG, describes the practice of including information in the prompt you've retrived from an external database ([Lewis et al. (2020)](https://arxiv.org/abs/2005.11401v4)). It's an effective way to incorporate facts into your LLM application and is more affordable than fine-tuning which may be costly and negatively impact the foundational model's capabilities.\n",
        "\n",
        "This could be as simple as a lookup table or as sophisticated as a [vector database]([FAISS](https://github.com/facebookresearch/faiss)) containing all of your company's knowledge:"
      ]
    },
    {
      "cell_type": "code",
      "execution_count": null,
      "metadata": {
        "colab": {
          "base_uri": "https://localhost:8080/"
        },
        "id": "6Bgt5YKJTsL2",
        "outputId": "5aa6824e-1903-4df0-caa5-573b9a2ffe4c"
      },
      "outputs": [
        {
          "output_type": "stream",
          "name": "stdout",
          "text": [
            "==============\n",
            "Given the following information: 'The temperature in Menlo Park was 51 degrees Fahrenheit on 2023-12-12'', respond to: 'What is the temperature in Menlo Park on 2023-12-12?'\n",
            "==============\n",
            "The temperature in Menlo Park on 2023-12-12 was 51 degrees Fahrenheit.\n",
            "\n",
            "==============\n",
            "Given the following information: 'The temperature in Menlo Park was unknown temperature on 2023-07-18'', respond to: 'What is the temperature in Menlo Park on 2023-07-18?'\n",
            "==============\n",
            "The temperature in Menlo Park on 2023-07-18 is unknown.\n",
            "\n"
          ]
        }
      ],
      "source": [
        "MENLO_PARK_TEMPS = {\n",
        "    \"2023-12-11\": \"52 degrees Fahrenheit\",\n",
        "    \"2023-12-12\": \"51 degrees Fahrenheit\",\n",
        "    \"2023-12-13\": \"51 degrees Fahrenheit\",\n",
        "}\n",
        "\n",
        "\n",
        "def prompt_with_rag(retrived_info, question):\n",
        "    complete_and_print(\n",
        "        f\"Given the following information: '{retrived_info}', respond to: '{question}'\"\n",
        "    )\n",
        "\n",
        "\n",
        "def ask_for_temperature(day):\n",
        "    temp_on_day = MENLO_PARK_TEMPS.get(day) or \"unknown temperature\"\n",
        "    prompt_with_rag(\n",
        "        f\"The temperature in Menlo Park was {temp_on_day} on {day}'\",  # Retrieved fact\n",
        "        f\"What is the temperature in Menlo Park on {day}?\",  # User question\n",
        "    )\n",
        "\n",
        "\n",
        "ask_for_temperature(\"2023-12-12\")\n",
        "# \"Sure! The temperature in Menlo Park on 2023-12-12 was 51 degrees Fahrenheit.\"\n",
        "\n",
        "ask_for_temperature(\"2023-07-18\")\n",
        "# \"I'm not able to provide the temperature in Menlo Park on 2023-07-18 as the information provided states that the temperature was unknown.\""
      ]
    },
    {
      "cell_type": "markdown",
      "metadata": {
        "id": "8fYS9dC_TsL3"
      },
      "source": [
        "### Program-Aided Language Models\n",
        "\n",
        "LLMs, by nature, aren't great at performing calculations. Let's try:\n",
        "\n",
        "$$\n",
        "((-5 + 93 * 4 - 0) * (4^4 + -7 + 0 * 5))\n",
        "$$\n",
        "\n",
        "(The correct answer is 91383.)"
      ]
    },
    {
      "cell_type": "code",
      "execution_count": null,
      "metadata": {
        "colab": {
          "base_uri": "https://localhost:8080/"
        },
        "id": "F4vT9GQzTsL3",
        "outputId": "a26f3bf2-6161-4fbd-9156-4b8968c5e94e"
      },
      "outputs": [
        {
          "output_type": "stream",
          "name": "stdout",
          "text": [
            "==============\n",
            "\n",
            "Calculate the answer to the following math problem:\n",
            "\n",
            "((-5 + 93 * 4 - 0) * (4^4 + -7 + 0 * 5))\n",
            "\n",
            "==============\n",
            "To calculate the answer to the given math problem, we'll follow the order of operations (PEMDAS):\n",
            "\n",
            "1. Evaluate the expressions inside the parentheses:\n",
            "   -5 + 93 * 4 - 0\n",
            "   = -5 + 372 - 0\n",
            "   = 367\n",
            "\n",
            "   4^4 + -7 + 0 * 5\n",
            "   = 256 + -7 + 0\n",
            "   = 249\n",
            "\n",
            "2. Multiply the two results:\n",
            "   367 * 249\n",
            "   = 91483\n",
            "\n",
            "So the answer is 91483.\n",
            "\n"
          ]
        }
      ],
      "source": [
        "complete_and_print(\"\"\"\n",
        "Calculate the answer to the following math problem:\n",
        "\n",
        "((-5 + 93 * 4 - 0) * (4^4 + -7 + 0 * 5))\n",
        "\"\"\")\n",
        "# Gives incorrect answers like 92448, 92648, 95463"
      ]
    },
    {
      "cell_type": "markdown",
      "metadata": {
        "id": "9N7G3eAbTsL3"
      },
      "source": [
        "[Gao et al. (2022)](https://arxiv.org/abs/2211.10435) introduced the concept of \"Program-aided Language Models\" (PAL). While LLMs are bad at arithmetic, they're great for code generation. PAL leverages this fact by instructing the LLM to write code to solve calculation tasks."
      ]
    },
    {
      "cell_type": "code",
      "execution_count": null,
      "metadata": {
        "colab": {
          "base_uri": "https://localhost:8080/"
        },
        "id": "8QDlQbtITsL3",
        "outputId": "926bb896-6d4f-4666-91ac-6d694a943759"
      },
      "outputs": [
        {
          "output_type": "stream",
          "name": "stdout",
          "text": [
            "==============\n",
            "\n",
            "    # Python code to calculate: ((-5 + 93 * 4 - 0) * (4^4 + -7 + 0 * 5))\n",
            "    \n",
            "==============\n",
            "### Calculating the Expression\n",
            "The given expression is `((-5 + 93 * 4 - 0) * (4^4 + -7 + 0 * 5))`. We can break this down into two parts and calculate them separately.\n",
            "\n",
            "#### Part 1: `(-5 + 93 * 4 - 0)`\n",
            "```python\n",
            "part1 = -5 + 93 * 4 - 0\n",
            "print(\"Part 1:\", part1)\n",
            "```\n",
            "\n",
            "#### Part 2: `(4^4 + -7 + 0 * 5)`\n",
            "In Python, the exponentiation operator is `**`, not `^`. So, we will use `**` instead of `^`.\n",
            "```python\n",
            "part2 = 4 ** 4 + -7 + 0 * 5\n",
            "print(\"Part 2:\", part2)\n",
            "```\n",
            "\n",
            "#### Calculating the Final Result\n",
            "Now, we can multiply `part1` and `part2` to get the final result.\n",
            "```python\n",
            "final_result = part1 * part2\n",
            "print(\"Final Result:\", final_result)\n",
            "```\n",
            "\n",
            "### Complete Code\n",
            "Here is the complete code:\n",
            "```python\n",
            "def calculate_expression():\n",
            "    # Part 1: (-5 + 93 * 4 - 0)\n",
            "    part1 = -5 + 93 * 4 - 0\n",
            "    print(\"Part 1:\", part1)\n",
            "\n",
            "    # Part 2: (4^4 + -7 + 0 * 5)\n",
            "    part2 = 4 ** 4 + -7 + 0 * 5\n",
            "    print(\"Part 2:\", part2)\n",
            "\n",
            "    # Calculating the Final Result\n",
            "    final_result = part1 * part2\n",
            "    print(\"Final Result:\", final_result)\n",
            "\n",
            "    return final_result\n",
            "\n",
            "# Execute the function\n",
            "result = calculate_expression()\n",
            "```\n",
            "\n",
            "### Running the Code\n",
            "When you run this code, it will calculate and print the values of `part1`, `part2`, and the `final_result`. The final result will be the product of `part1` and `part2`.\n",
            "\n"
          ]
        }
      ],
      "source": [
        "complete_and_print(\n",
        "    \"\"\"\n",
        "    # Python code to calculate: ((-5 + 93 * 4 - 0) * (4^4 + -7 + 0 * 5))\n",
        "    \"\"\",\n",
        ")"
      ]
    },
    {
      "cell_type": "code",
      "execution_count": null,
      "metadata": {
        "colab": {
          "base_uri": "https://localhost:8080/"
        },
        "id": "N_fpHBtRTsL3",
        "outputId": "a98cf2dd-ccbd-4015-c0eb-891b6a7597fa"
      },
      "outputs": [
        {
          "output_type": "stream",
          "name": "stdout",
          "text": [
            "91383\n"
          ]
        }
      ],
      "source": [
        "# The following code was generated by Llama 3 70B:\n",
        "\n",
        "result = ((-5 + 93 * 4 - 0) * (4**4 - 7 + 0 * 5))\n",
        "print(result)"
      ]
    },
    {
      "cell_type": "markdown",
      "metadata": {
        "id": "ObIUTWY3TsL3"
      },
      "source": [
        "### Limiting Extraneous Tokens\n",
        "\n",
        "A common struggle with Llama 2 is getting output without extraneous tokens (ex. \"Sure! Here's more information on...\"), even if explicit instructions are given to Llama 2 to be concise and no preamble. Llama 3.x can better follow instructions.\n",
        "\n",
        "Check out this improvement that combines a role, rules and restrictions, explicit instructions, and an example:"
      ]
    },
    {
      "cell_type": "code",
      "execution_count": null,
      "metadata": {
        "colab": {
          "base_uri": "https://localhost:8080/"
        },
        "id": "UOUz8yw3TsL3",
        "outputId": "b693e3de-7743-4788-c659-04243ad04f01"
      },
      "outputs": [
        {
          "output_type": "stream",
          "name": "stdout",
          "text": [
            "==============\n",
            "Give me the zip code for Menlo Park in JSON format with the field 'zip_code'\n",
            "==============\n",
            "```json\n",
            "{\n",
            "  \"zip_code\": \"94025\"\n",
            "}\n",
            "```\n",
            "\n",
            "Note: Menlo Park, California has multiple zip codes (94025, 94026, 94027, etc.), but 94025 is one of the most commonly used.\n",
            "\n",
            "==============\n",
            "\n",
            "    You are a robot that only outputs JSON.\n",
            "    You reply in JSON format with the field 'zip_code'.\n",
            "    Example question: What is the zip code of the Empire State Building? Example answer: {'zip_code': 10118}\n",
            "    Now here is my question: What is the zip code of Menlo Park?\n",
            "    \n",
            "==============\n",
            "{\"zip_code\": 94025}\n",
            "\n"
          ]
        }
      ],
      "source": [
        "complete_and_print(\n",
        "    \"Give me the zip code for Menlo Park in JSON format with the field 'zip_code'\",\n",
        ")\n",
        "# Likely returns the JSON and also \"Sure! Here's the JSON...\"\n",
        "\n",
        "complete_and_print(\n",
        "    \"\"\"\n",
        "    You are a robot that only outputs JSON.\n",
        "    You reply in JSON format with the field 'zip_code'.\n",
        "    Example question: What is the zip code of the Empire State Building? Example answer: {'zip_code': 10118}\n",
        "    Now here is my question: What is the zip code of Menlo Park?\n",
        "    \"\"\",\n",
        ")\n",
        "# \"{'zip_code': 94025}\""
      ]
    },
    {
      "cell_type": "markdown",
      "metadata": {
        "id": "uBPgf6UATsL3"
      },
      "source": [
        "## Additional References\n",
        "- [PromptingGuide.ai](https://www.promptingguide.ai/)\n",
        "- [LearnPrompting.org](https://learnprompting.org/)\n",
        "- [Lil'Log Prompt Engineering Guide](https://lilianweng.github.io/posts/2023-03-15-prompt-engineering/)\n"
      ]
    },
    {
      "cell_type": "markdown",
      "metadata": {
        "id": "zSRsibwFTsL3"
      },
      "source": [
        "## Author & Contact\n",
        "\n",
        "Edited by [Dalton Flanagan](https://www.linkedin.com/in/daltonflanagan/) (dalton@meta.com) with contributions from Mohsen Agsen, Bryce Bortree, Ricardo Juan Palma Duran, Kaolin Fire, Thomas Scialom."
      ]
    }
  ],
  "metadata": {
    "captumWidgetMessage": [],
    "dataExplorerConfig": [],
    "kernelspec": {
      "display_name": "Python 3 (ipykernel)",
      "language": "python",
      "name": "python3"
    },
    "language_info": {
      "codemirror_mode": {
        "name": "ipython",
        "version": 3
      },
      "file_extension": ".py",
      "mimetype": "text/x-python",
      "name": "python",
      "nbconvert_exporter": "python",
      "pygments_lexer": "ipython3",
      "version": "3.10.14"
    },
    "last_base_url": "https://bento.edge.x2p.facebook.net/",
    "last_kernel_id": "161e2a7b-2d2b-4995-87f3-d1539860ecac",
    "last_msg_id": "4eab1242-d815b886ebe4f5b1966da982_543",
    "last_server_session_id": "4a7b41c5-ed66-4dcb-a376-22673aebb469",
    "operator_data": [],
    "outputWidgetContext": [],
    "colab": {
      "provenance": [],
      "include_colab_link": true
    }
  },
  "nbformat": 4,
  "nbformat_minor": 0
}